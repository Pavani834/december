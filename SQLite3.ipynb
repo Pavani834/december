{
  "nbformat": 4,
  "nbformat_minor": 0,
  "metadata": {
    "colab": {
      "provenance": [],
      "toc_visible": true,
      "authorship_tag": "ABX9TyP3aQB7DmpxWUVujLjQTrdP",
      "include_colab_link": true
    },
    "kernelspec": {
      "name": "python3",
      "display_name": "Python 3"
    },
    "language_info": {
      "name": "python"
    }
  },
  "cells": [
    {
      "cell_type": "markdown",
      "metadata": {
        "id": "view-in-github",
        "colab_type": "text"
      },
      "source": [
        "<a href=\"https://colab.research.google.com/github/Pavani834/december/blob/main/SQLite3.ipynb\" target=\"_parent\"><img src=\"https://colab.research.google.com/assets/colab-badge.svg\" alt=\"Open In Colab\"/></a>"
      ]
    },
    {
      "cell_type": "markdown",
      "source": [
        "connect to database"
      ],
      "metadata": {
        "id": "pYhYC55PAnm6"
      }
    },
    {
      "cell_type": "code",
      "execution_count": null,
      "metadata": {
        "colab": {
          "base_uri": "https://localhost:8080/"
        },
        "id": "q6y98daIAeG_",
        "outputId": "c0b8fd5f-e2b0-4cae-f25c-5f238ed42c36"
      },
      "outputs": [
        {
          "output_type": "stream",
          "name": "stdout",
          "text": [
            "opened database successfully\n"
          ]
        }
      ],
      "source": [
        "import sqlite3\n",
        "conn=sqlite3.connect('test.db')\n",
        "print(\"opened database successfully\")"
      ]
    },
    {
      "cell_type": "markdown",
      "source": [
        "create a table"
      ],
      "metadata": {
        "id": "71ONyr9SBKVW"
      }
    },
    {
      "cell_type": "code",
      "source": [
        "import sqlite3\n",
        "conn=sqlite3.connect('trst.db')\n",
        "print(\"opened database successfully\")\n",
        "conn.execute('''CREATE TABLE EMPLOYEE1\n",
        "             (ID INT PRIMARY KEY  NOT NULL,\n",
        "             NAME  TEXT  NOT NULL,\n",
        "             AGE  INT NOT NULL,\n",
        "             ADDRESS   CHAR(50),\n",
        "             SALARY    REAL);''')\n",
        "print(\"Table created successfully\" )"
      ],
      "metadata": {
        "colab": {
          "base_uri": "https://localhost:8080/"
        },
        "id": "2r1JQ4VUBrL0",
        "outputId": "1a83e6fb-5a76-40af-abf3-8ae838d02aa1"
      },
      "execution_count": null,
      "outputs": [
        {
          "output_type": "stream",
          "name": "stdout",
          "text": [
            "opened database successfully\n",
            "Table created successfully\n"
          ]
        }
      ]
    },
    {
      "cell_type": "code",
      "source": [
        "()import sqlite3\n",
        "conn=sqlite3.connect('stdts.db')\n",
        "print(\"opened database successflly\")\n",
        "conn.execute('''CREATE TABLE STUDENTS(ROLLNO  INT  PRIMARY KEY  NOT NULL,NAME  TEXT  NOT NULL,MARKS1 INT NOT NULL,MARKS2 INT NOT NULL,TOTAL INT NOT NULL);''')\n",
        "print(\"Table created successfully\")\n",
        "conn.execute(\"INSERT INTO STUDENTS (ROLLNO,NAME,MARKS1,MARKS2,TOTAL)\\\n",
        "VALUES(1,'ILA',45,7,52)\")\n",
        "conn.execute(\"INSERT INTO STUDENTS (ROLLNO,NAME,MARKS1,MARKS2,TOTAL)\\\n",
        "VALUES(2,'PRANAYINI',40,40,80)\")\n",
        "conn.execute(\"INSERT INTO STUDENTS (ROLLNO,NAME,MARKS1,MARKS2,TOTAL)\\\n",
        "VALUES(3,'ALIEN',35,35,70)\")\n",
        "conn.execute(\"INSERT INTO STUDENTS (ROLLNO,NAME,MARKS1,MARKS2,TOTAL)\\\n",
        "VALUES(4,'PAUL',10,10,20)\")\n",
        "conn.commit()\n",
        "print(\"records created successfully\")\n",
        "conn.close"
      ],
      "metadata": {
        "colab": {
          "base_uri": "https://localhost:8080/"
        },
        "id": "Tz-z0lqHErw4",
        "outputId": "2148e562-9a3f-4409-bd44-bf533c1e29fa"
      },
      "execution_count": null,
      "outputs": [
        {
          "output_type": "stream",
          "name": "stdout",
          "text": [
            "opened database successflly\n",
            "Table created successfully\n",
            "records created successfully\n"
          ]
        }
      ]
    },
    {
      "cell_type": "code",
      "source": [
        "import sqlite3\n",
        "conn=sqlite3.connect('stdts.db')\n",
        "print(\"opened database successflly\")\n",
        "conn.execute('''CREATE TABLE STUDENTS(ROLLNO  INT  PRIMARY KEY  NOT NULL,NAME  TEXT  NOT NULL,MARKS1 INT NOT NULL,MARKS2 INT NOT NULL,TOTAL INT NOT NULL);''')\n",
        "print(\"Table created successfully\")\n",
        "conn.execute(\"INSERT INTO STUDENTS (ROLLNO,NAME,MARKS1,MARKS2,TOTAL)\\\n",
        "VALUES(1,'ILA',45,7,52)\")\n",
        "conn.execute(\"INSERT INTO STUDENTS (ROLLNO,NAME,MARKS1,MARKS2,TOTAL)\\\n",
        "VALUES(2,'PRANAYINI',40,40,80)\")\n",
        "conn.execute(\"INSERT INTO STUDENTS (ROLLNO,NAME,MARKS1,MARKS2,TOTAL)\\\n",
        "VALUES(3,'ALIEN',35,35,70)\")\n",
        "conn.execute(\"INSERT INTO STUDENTS (ROLLNO,NAME,MARKS1,MARKS2,TOTAL)\\\n",
        "VALUES(4,'PAUL',10,10,20)\")\n",
        "conn.commit()\n",
        "print(\"records created successfully\")\n",
        "conn.execute(\"DELETE from STUDENTS WHERE ROLL=3\")\n",
        "conn.commit()\n",
        "print(\"t\")"
      ],
      "metadata": {
        "id": "Sqe1opeSiMhr"
      },
      "execution_count": null,
      "outputs": []
    },
    {
      "cell_type": "code",
      "source": [
        "\n",
        "import sqlite3\n",
        "conn=sqlite3.connect('stdts.db')\n",
        "print(\"opened database successflly\")\n",
        "conn.execute('''CREATE TABLE STUDENTS(ROLLNO  INT  PRIMARY KEY  NOT NULL,NAME  TEXT  NOT NULL,MARKS1 INT NOT NULL,MARKS2 INT NOT NULL,TOTAL INT NOT NULL);''')\n",
        "print(\"Table created successfully\")\n",
        "conn.execute(\"INSERT INTO STUDENTS (ROLLNO,NAME,MARKS1,MARKS2,TOTAL)\\\n",
        "VALUES(1,'ILA',45,7,52)\")\n",
        "conn.execute(\"INSERT INTO STUDENTS (ROLLNO,NAME,MARKS1,MARKS2,TOTAL)\\\n",
        "VALUES(2,'PRANAYINI',40,40,80)\")\n",
        "conn.execute(\"INSERT INTO STUDENTS (ROLLNO,NAME,MARKS1,MARKS2,TOTAL)\\\n",
        "VALUES(3,'ALIEN',35,35,70)\")\n",
        "conn.execute(\"INSERT INTO STUDENTS (ROLLNO,NAME,MARKS1,MARKS2,TOTAL)\\\n",
        "VALUES(4,'PAUL',10,10,20)\")\n",
        "conn.commit()\n",
        "print(\"records created successfully\")\n",
        "conn.close"
      ],
      "metadata": {
        "id": "36VQ1D6zi7qJ"
      },
      "execution_count": null,
      "outputs": []
    },
    {
      "cell_type": "code",
      "source": [
        "conn.execute(\"DELETE from STUDENTS WHERE ROLLNO=3\")\n",
        "conn.commit()\n",
        "print(\"total number of rows deleted:\",conn.total_changes)\n"
      ],
      "metadata": {
        "id": "C1DwbrTBkdPk",
        "outputId": "07337cbd-401c-4b31-b93c-a70e838bdfc6",
        "colab": {
          "base_uri": "https://localhost:8080/"
        }
      },
      "execution_count": null,
      "outputs": [
        {
          "output_type": "stream",
          "name": "stdout",
          "text": [
            "total number of rows deleted: 6\n"
          ]
        }
      ]
    }
  ]
}